{
 "cells": [
  {
   "cell_type": "markdown",
   "metadata": {},
   "source": [
    "## Pose Estimation Walkthrough\n",
    "\n",
    "this notebook contains a note while toying with data and the result, also the steps to produce the result"
   ]
  },
  {
   "cell_type": "code",
   "execution_count": 1,
   "metadata": {},
   "outputs": [],
   "source": [
    "import torch\n",
    "import syft as sy\n",
    "\n",
    "LABEL = ['Standing still', 'Sitting and relaxing', 'Lying down', 'Walking', 'Climbing', 'Running']"
   ]
  },
  {
   "cell_type": "markdown",
   "metadata": {},
   "source": [
    "## Reading data\n",
    "\n",
    "1. Split files detected by glob to train and test\n",
    "2. Read CSV\n",
    "3. Construct Dataset class\n",
    "\n",
    "For the first experiment, i will try to use all features that available so the input will be [1 x 21]"
   ]
  },
  {
   "cell_type": "code",
   "execution_count": 2,
   "metadata": {},
   "outputs": [],
   "source": [
    "import glob\n",
    "import csv\n",
    "import random\n",
    "\n",
    "# folder path\n",
    "PATH = 'data/Preprocessed'\n",
    "TRAIN_FILES_COUNT = 8\n",
    "# seed for random\n",
    "random.seed(300)"
   ]
  },
  {
   "cell_type": "code",
   "execution_count": 3,
   "metadata": {},
   "outputs": [],
   "source": [
    "files = glob.glob(PATH+\"/*.csv\")\n",
    "\n",
    "# split into train and test\n",
    "# according to note, only 8 data for training, and the rest for testing\n",
    "random.shuffle(files)\n",
    "train_files, test_files = files[0:TRAIN_FILES_COUNT],files[TRAIN_FILES_COUNT:]"
   ]
  },
  {
   "cell_type": "code",
   "execution_count": 4,
   "metadata": {},
   "outputs": [
    {
     "name": "stdout",
     "output_type": "stream",
     "text": [
      "data/Preprocessed\\mHealth_subject7.csv\n",
      "types of label inside: [5, 1, 2, 3, 4, 6]\n"
     ]
    }
   ],
   "source": [
    "index_to_read = 3\n",
    "sample_read = []\n",
    "sample_label = []\n",
    "label = []\n",
    "\n",
    "with open(train_files[index_to_read]) as csv_file:\n",
    "    csv_reader = csv.reader(csv_file, delimiter=',')\n",
    "    for row in csv_reader:\n",
    "        if int(row[21]) != 0:\n",
    "            if int(row[21]) not in label:\n",
    "                label.append(int(row[21]))\n",
    "            sample_read.append([float(item) for item in row[0:21]])\n",
    "            sample_label.append(int(row[21]))\n",
    "\n",
    "print(train_files[index_to_read])\n",
    "print('types of label inside: {}'.format(label))"
   ]
  },
  {
   "cell_type": "markdown",
   "metadata": {},
   "source": [
    "### Use Constructed Dataset\n",
    "\n",
    "To make it easy, we create a dataloader for reading and returning value from csv files"
   ]
  },
  {
   "cell_type": "code",
   "execution_count": 5,
   "metadata": {},
   "outputs": [],
   "source": [
    "from dataloader import ImuPoseDataset\n",
    "sample_dataset = ImuPoseDataset(files=train_files)"
   ]
  },
  {
   "cell_type": "code",
   "execution_count": 6,
   "metadata": {},
   "outputs": [
    {
     "name": "stdout",
     "output_type": "stream",
     "text": [
      "Chest \t\t\tLeft Angkle\n",
      "-8.80 \t0.37 \t-0.90 \t-0.41 \t-6.06 \t-5.16 \t-0.23 \t-0.48 \t0.16 \t-18.09 \t7.89 \t7.50\n",
      "Label \t\t\tRight Angkle\n",
      "5 \t\t\t-2.05 \t-7.83 \t-1.07 \t-0.46 \t-0.37 \t-0.06 \t-2.93 \t-5.84 \t12.27\n",
      "\n",
      "Chest \t\t\tLeft Angkle\n",
      "-8.46 \t0.17 \t-1.23 \t-0.03 \t-4.87 \t-4.83 \t-0.29 \t-0.49 \t0.07 \t-9.19 \t10.37 \t5.56\n",
      "Label \t\t\tRight Angkle\n",
      "5 \t\t\t-2.07 \t-8.42 \t-1.13 \t-0.47 \t-0.37 \t-0.04 \t-2.76 \t-6.95 \t10.48\n",
      "\n",
      "Chest \t\t\tLeft Angkle\n",
      "-8.86 \t0.40 \t-1.09 \t1.05 \t-4.82 \t-4.34 \t-0.29 \t-0.49 \t0.07 \t-1.37 \t10.11 \t3.39\n",
      "Label \t\t\tRight Angkle\n",
      "5 \t\t\t-2.19 \t-8.38 \t-0.88 \t-0.47 \t-0.37 \t-0.04 \t-2.56 \t-4.76 \t11.19\n",
      "\n"
     ]
    }
   ],
   "source": [
    "# print sample data\n",
    "for rep in range(0,3):\n",
    "    sample_dataset.print_value(rep)"
   ]
  }
 ],
 "metadata": {
  "kernelspec": {
   "display_name": "Python 3",
   "language": "python",
   "name": "python3"
  },
  "language_info": {
   "codemirror_mode": {
    "name": "ipython",
    "version": 3
   },
   "file_extension": ".py",
   "mimetype": "text/x-python",
   "name": "python",
   "nbconvert_exporter": "python",
   "pygments_lexer": "ipython3",
   "version": "3.7.9"
  }
 },
 "nbformat": 4,
 "nbformat_minor": 4
}
